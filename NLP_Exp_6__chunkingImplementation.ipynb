{
  "cells": [
    {
      "cell_type": "code",
      "execution_count": 1,
      "id": "exciting-identity",
      "metadata": {
        "colab": {
          "base_uri": "https://localhost:8080/"
        },
        "id": "exciting-identity",
        "outputId": "18e92d6f-0241-45ce-b94c-d239db5b3d38"
      },
      "outputs": [
        {
          "output_type": "stream",
          "name": "stderr",
          "text": [
            "[nltk_data] Downloading package punkt to /root/nltk_data...\n",
            "[nltk_data]   Unzipping tokenizers/punkt.zip.\n",
            "[nltk_data] Downloading package averaged_perceptron_tagger to\n",
            "[nltk_data]     /root/nltk_data...\n",
            "[nltk_data]   Unzipping taggers/averaged_perceptron_tagger.zip.\n"
          ]
        },
        {
          "output_type": "execute_result",
          "data": {
            "text/plain": [
              "True"
            ]
          },
          "metadata": {},
          "execution_count": 1
        }
      ],
      "source": [
        "import nltk\n",
        "nltk.download('punkt')\n",
        "nltk.download('averaged_perceptron_tagger')"
      ]
    },
    {
      "cell_type": "code",
      "execution_count": 2,
      "id": "parliamentary-alpha",
      "metadata": {
        "id": "parliamentary-alpha"
      },
      "outputs": [],
      "source": [
        "from nltk.chunk import RegexpParser\n",
        "from nltk.tokenize import word_tokenize"
      ]
    },
    {
      "cell_type": "code",
      "execution_count": 3,
      "id": "subject-coordinator",
      "metadata": {
        "id": "subject-coordinator"
      },
      "outputs": [],
      "source": [
        "sentence = \"Educative Answers is a free web encyclopedia written by devs for devs.\""
      ]
    },
    {
      "cell_type": "markdown",
      "id": "featured-pennsylvania",
      "metadata": {
        "id": "featured-pennsylvania"
      },
      "source": [
        "### Tokenization"
      ]
    },
    {
      "cell_type": "code",
      "execution_count": 4,
      "id": "massive-deposit",
      "metadata": {
        "id": "massive-deposit"
      },
      "outputs": [],
      "source": [
        "tokens = word_tokenize(sentence)"
      ]
    },
    {
      "cell_type": "code",
      "execution_count": 5,
      "id": "curious-coaching",
      "metadata": {
        "colab": {
          "base_uri": "https://localhost:8080/"
        },
        "id": "curious-coaching",
        "outputId": "3f34f4a8-55d3-4aab-b5d3-8963a36bd2f2"
      },
      "outputs": [
        {
          "output_type": "execute_result",
          "data": {
            "text/plain": [
              "['Educative',\n",
              " 'Answers',\n",
              " 'is',\n",
              " 'a',\n",
              " 'free',\n",
              " 'web',\n",
              " 'encyclopedia',\n",
              " 'written',\n",
              " 'by',\n",
              " 'devs',\n",
              " 'for',\n",
              " 'devs',\n",
              " '.']"
            ]
          },
          "metadata": {},
          "execution_count": 5
        }
      ],
      "source": [
        "tokens"
      ]
    },
    {
      "cell_type": "markdown",
      "id": "possible-strengthening",
      "metadata": {
        "id": "possible-strengthening"
      },
      "source": [
        "### POS tagging"
      ]
    },
    {
      "cell_type": "code",
      "execution_count": 6,
      "id": "liberal-convenience",
      "metadata": {
        "id": "liberal-convenience"
      },
      "outputs": [],
      "source": [
        "pos_tags = nltk.pos_tag(tokens)"
      ]
    },
    {
      "cell_type": "code",
      "execution_count": 7,
      "id": "unavailable-northeast",
      "metadata": {
        "colab": {
          "base_uri": "https://localhost:8080/"
        },
        "id": "unavailable-northeast",
        "outputId": "3b4efbc4-e389-4adb-bf01-0f9c6f41cf8b"
      },
      "outputs": [
        {
          "output_type": "execute_result",
          "data": {
            "text/plain": [
              "[('Educative', 'JJ'),\n",
              " ('Answers', 'NNPS'),\n",
              " ('is', 'VBZ'),\n",
              " ('a', 'DT'),\n",
              " ('free', 'JJ'),\n",
              " ('web', 'NN'),\n",
              " ('encyclopedia', 'NN'),\n",
              " ('written', 'VBN'),\n",
              " ('by', 'IN'),\n",
              " ('devs', 'NN'),\n",
              " ('for', 'IN'),\n",
              " ('devs', 'NN'),\n",
              " ('.', '.')]"
            ]
          },
          "metadata": {},
          "execution_count": 7
        }
      ],
      "source": [
        "pos_tags"
      ]
    },
    {
      "cell_type": "markdown",
      "id": "sitting-pencil",
      "metadata": {
        "id": "sitting-pencil"
      },
      "source": [
        "### Chunking patterns"
      ]
    },
    {
      "cell_type": "code",
      "execution_count": 8,
      "id": "surrounded-straight",
      "metadata": {
        "id": "surrounded-straight"
      },
      "outputs": [],
      "source": [
        "chunk_patterns = r\"\"\"\n",
        "    NP: {<DT>?<JJ>*<NN>}  # Chunk noun phrases\n",
        "    VP: {<VB.*><NP|PP>}  # Chunk verb phrases\n",
        "\"\"\""
      ]
    },
    {
      "cell_type": "code",
      "execution_count": 9,
      "id": "abstract-banks",
      "metadata": {
        "colab": {
          "base_uri": "https://localhost:8080/",
          "height": 36
        },
        "id": "abstract-banks",
        "outputId": "3aa1b812-6f99-4383-a140-5892252b81db"
      },
      "outputs": [
        {
          "output_type": "execute_result",
          "data": {
            "text/plain": [
              "'\\n    NP: {<DT>?<JJ>*<NN>}  # Chunk noun phrases\\n    VP: {<VB.*><NP|PP>}  # Chunk verb phrases\\n'"
            ],
            "application/vnd.google.colaboratory.intrinsic+json": {
              "type": "string"
            }
          },
          "metadata": {},
          "execution_count": 9
        }
      ],
      "source": [
        "chunk_patterns"
      ]
    },
    {
      "cell_type": "markdown",
      "id": "banner-reset",
      "metadata": {
        "id": "banner-reset"
      },
      "source": [
        "### Create a chunk parser"
      ]
    },
    {
      "cell_type": "code",
      "execution_count": 10,
      "id": "intended-connectivity",
      "metadata": {
        "id": "intended-connectivity"
      },
      "outputs": [],
      "source": [
        "chunk_parser = RegexpParser(chunk_patterns)"
      ]
    },
    {
      "cell_type": "code",
      "execution_count": 11,
      "id": "soviet-difference",
      "metadata": {
        "colab": {
          "base_uri": "https://localhost:8080/"
        },
        "id": "soviet-difference",
        "outputId": "0048c8c8-8f33-4373-d26c-9f61f56b1208"
      },
      "outputs": [
        {
          "output_type": "execute_result",
          "data": {
            "text/plain": [
              "<chunk.RegexpParser with 2 stages>"
            ]
          },
          "metadata": {},
          "execution_count": 11
        }
      ],
      "source": [
        "chunk_parser"
      ]
    },
    {
      "cell_type": "markdown",
      "id": "existing-placement",
      "metadata": {
        "id": "existing-placement"
      },
      "source": [
        "### Perform chunking"
      ]
    },
    {
      "cell_type": "code",
      "execution_count": 12,
      "id": "exclusive-manor",
      "metadata": {
        "id": "exclusive-manor"
      },
      "outputs": [],
      "source": [
        "result = chunk_parser.parse(pos_tags)"
      ]
    },
    {
      "cell_type": "code",
      "execution_count": 13,
      "id": "figured-compromise",
      "metadata": {
        "colab": {
          "base_uri": "https://localhost:8080/"
        },
        "id": "figured-compromise",
        "outputId": "d513cc7f-ed5a-4e0c-b9ec-a39d20d6df4e"
      },
      "outputs": [
        {
          "output_type": "stream",
          "name": "stdout",
          "text": [
            "(S\n",
            "  Educative/JJ\n",
            "  Answers/NNPS\n",
            "  (VP is/VBZ (NP a/DT free/JJ web/NN))\n",
            "  (NP encyclopedia/NN)\n",
            "  written/VBN\n",
            "  by/IN\n",
            "  (NP devs/NN)\n",
            "  for/IN\n",
            "  (NP devs/NN)\n",
            "  ./.)\n"
          ]
        }
      ],
      "source": [
        "print(result)"
      ]
    }
  ],
  "metadata": {
    "kernelspec": {
      "display_name": "Python 3 (ipykernel)",
      "language": "python",
      "name": "python3"
    },
    "language_info": {
      "codemirror_mode": {
        "name": "ipython",
        "version": 3
      },
      "file_extension": ".py",
      "mimetype": "text/x-python",
      "name": "python",
      "nbconvert_exporter": "python",
      "pygments_lexer": "ipython3",
      "version": "3.7.0"
    },
    "colab": {
      "provenance": []
    }
  },
  "nbformat": 4,
  "nbformat_minor": 5
}